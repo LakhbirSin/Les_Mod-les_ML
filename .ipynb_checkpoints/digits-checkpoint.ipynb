{
 "cells": [
  {
   "cell_type": "code",
   "execution_count": 76,
   "id": "35882b2f",
   "metadata": {},
   "outputs": [],
   "source": [
    "import pandas as pd\n",
    "import matplotlib.pyplot as plt\n",
    "from sklearn.datasets import load_digits\n",
    "from sklearn import svm\n",
    "from sklearn.svm import SVC\n",
    "from sklearn.model_selection import train_test_split"
   ]
  },
  {
   "cell_type": "code",
   "execution_count": 77,
   "id": "ba67b1da",
   "metadata": {},
   "outputs": [
    {
     "name": "stdout",
     "output_type": "stream",
     "text": [
      "['DESCR', 'data', 'feature_names', 'frame', 'images', 'target', 'target_names']\n"
     ]
    }
   ],
   "source": [
    "Digits = load_digits()\n",
    "print(dir(Digits))# features"
   ]
  },
  {
   "cell_type": "code",
   "execution_count": 78,
   "id": "2c1c057f",
   "metadata": {},
   "outputs": [
    {
     "name": "stdout",
     "output_type": "stream",
     "text": [
      "[[ 0.  0.  5. ...  0.  0.  0.]\n",
      " [ 0.  0.  0. ... 10.  0.  0.]\n",
      " [ 0.  0.  0. ... 16.  9.  0.]\n",
      " ...\n",
      " [ 0.  0.  1. ...  6.  0.  0.]\n",
      " [ 0.  0.  2. ... 12.  0.  0.]\n",
      " [ 0.  0. 10. ... 12.  1.  0.]]\n"
     ]
    }
   ],
   "source": [
    "print(Digits.data)#dataset digit"
   ]
  },
  {
   "cell_type": "code",
   "execution_count": 79,
   "id": "d90dab18",
   "metadata": {},
   "outputs": [
    {
     "name": "stdout",
     "output_type": "stream",
     "text": [
      "[0 1 2 ... 8 9 8]\n"
     ]
    }
   ],
   "source": [
    "print(Digits.target)# labels"
   ]
  },
  {
   "cell_type": "code",
   "execution_count": 80,
   "id": "f86864d8",
   "metadata": {},
   "outputs": [
    {
     "name": "stdout",
     "output_type": "stream",
     "text": [
      "       0    1     2     3     4     5    6    7    8    9   ...   54   55  \\\n",
      "0     0.0  0.0   5.0  13.0   9.0   1.0  0.0  0.0  0.0  0.0  ...  0.0  0.0   \n",
      "1     0.0  0.0   0.0  12.0  13.0   5.0  0.0  0.0  0.0  0.0  ...  0.0  0.0   \n",
      "2     0.0  0.0   0.0   4.0  15.0  12.0  0.0  0.0  0.0  0.0  ...  5.0  0.0   \n",
      "3     0.0  0.0   7.0  15.0  13.0   1.0  0.0  0.0  0.0  8.0  ...  9.0  0.0   \n",
      "4     0.0  0.0   0.0   1.0  11.0   0.0  0.0  0.0  0.0  0.0  ...  0.0  0.0   \n",
      "...   ...  ...   ...   ...   ...   ...  ...  ...  ...  ...  ...  ...  ...   \n",
      "1792  0.0  0.0   4.0  10.0  13.0   6.0  0.0  0.0  0.0  1.0  ...  4.0  0.0   \n",
      "1793  0.0  0.0   6.0  16.0  13.0  11.0  1.0  0.0  0.0  0.0  ...  1.0  0.0   \n",
      "1794  0.0  0.0   1.0  11.0  15.0   1.0  0.0  0.0  0.0  0.0  ...  0.0  0.0   \n",
      "1795  0.0  0.0   2.0  10.0   7.0   0.0  0.0  0.0  0.0  0.0  ...  2.0  0.0   \n",
      "1796  0.0  0.0  10.0  14.0   8.0   1.0  0.0  0.0  0.0  2.0  ...  8.0  0.0   \n",
      "\n",
      "       56   57   58    59    60    61   62   63  \n",
      "0     0.0  0.0  6.0  13.0  10.0   0.0  0.0  0.0  \n",
      "1     0.0  0.0  0.0  11.0  16.0  10.0  0.0  0.0  \n",
      "2     0.0  0.0  0.0   3.0  11.0  16.0  9.0  0.0  \n",
      "3     0.0  0.0  7.0  13.0  13.0   9.0  0.0  0.0  \n",
      "4     0.0  0.0  0.0   2.0  16.0   4.0  0.0  0.0  \n",
      "...   ...  ...  ...   ...   ...   ...  ...  ...  \n",
      "1792  0.0  0.0  2.0  14.0  15.0   9.0  0.0  0.0  \n",
      "1793  0.0  0.0  6.0  16.0  14.0   6.0  0.0  0.0  \n",
      "1794  0.0  0.0  2.0   9.0  13.0   6.0  0.0  0.0  \n",
      "1795  0.0  0.0  5.0  12.0  16.0  12.0  0.0  0.0  \n",
      "1796  0.0  1.0  8.0  12.0  14.0  12.0  1.0  0.0  \n",
      "\n",
      "[1797 rows x 64 columns]\n"
     ]
    }
   ],
   "source": [
    "D = pd.DataFrame(Digits.data)\n",
    "print(D)"
   ]
  },
  {
   "cell_type": "code",
   "execution_count": 81,
   "id": "9cf2089c",
   "metadata": {},
   "outputs": [
    {
     "name": "stdout",
     "output_type": "stream",
     "text": [
      "        0    1     2     3     4     5    6    7    8    9  ...   55   56  \\\n",
      "0     0.0  0.0   5.0  13.0   9.0   1.0  0.0  0.0  0.0  0.0  ...  0.0  0.0   \n",
      "1     0.0  0.0   0.0  12.0  13.0   5.0  0.0  0.0  0.0  0.0  ...  0.0  0.0   \n",
      "2     0.0  0.0   0.0   4.0  15.0  12.0  0.0  0.0  0.0  0.0  ...  0.0  0.0   \n",
      "3     0.0  0.0   7.0  15.0  13.0   1.0  0.0  0.0  0.0  8.0  ...  0.0  0.0   \n",
      "4     0.0  0.0   0.0   1.0  11.0   0.0  0.0  0.0  0.0  0.0  ...  0.0  0.0   \n",
      "...   ...  ...   ...   ...   ...   ...  ...  ...  ...  ...  ...  ...  ...   \n",
      "1792  0.0  0.0   4.0  10.0  13.0   6.0  0.0  0.0  0.0  1.0  ...  0.0  0.0   \n",
      "1793  0.0  0.0   6.0  16.0  13.0  11.0  1.0  0.0  0.0  0.0  ...  0.0  0.0   \n",
      "1794  0.0  0.0   1.0  11.0  15.0   1.0  0.0  0.0  0.0  0.0  ...  0.0  0.0   \n",
      "1795  0.0  0.0   2.0  10.0   7.0   0.0  0.0  0.0  0.0  0.0  ...  0.0  0.0   \n",
      "1796  0.0  0.0  10.0  14.0   8.0   1.0  0.0  0.0  0.0  2.0  ...  0.0  0.0   \n",
      "\n",
      "       57   58    59    60    61   62   63  target  \n",
      "0     0.0  6.0  13.0  10.0   0.0  0.0  0.0       0  \n",
      "1     0.0  0.0  11.0  16.0  10.0  0.0  0.0       1  \n",
      "2     0.0  0.0   3.0  11.0  16.0  9.0  0.0       2  \n",
      "3     0.0  7.0  13.0  13.0   9.0  0.0  0.0       3  \n",
      "4     0.0  0.0   2.0  16.0   4.0  0.0  0.0       4  \n",
      "...   ...  ...   ...   ...   ...  ...  ...     ...  \n",
      "1792  0.0  2.0  14.0  15.0   9.0  0.0  0.0       9  \n",
      "1793  0.0  6.0  16.0  14.0   6.0  0.0  0.0       0  \n",
      "1794  0.0  2.0   9.0  13.0   6.0  0.0  0.0       8  \n",
      "1795  0.0  5.0  12.0  16.0  12.0  0.0  0.0       9  \n",
      "1796  1.0  8.0  12.0  14.0  12.0  1.0  0.0       8  \n",
      "\n",
      "[1797 rows x 65 columns]\n"
     ]
    }
   ],
   "source": [
    "D['target'] = pd.DataFrame(Digits.target)# Ajout colonne target(une variable dependant)\n",
    "print(D)"
   ]
  },
  {
   "cell_type": "code",
   "execution_count": 82,
   "id": "116a7c9d",
   "metadata": {},
   "outputs": [],
   "source": [
    "mod = svm.SVC(kernel='linear' , gamma=0.1 , C=1)"
   ]
  },
  {
   "cell_type": "code",
   "execution_count": 83,
   "id": "b9b0de68",
   "metadata": {},
   "outputs": [],
   "source": [
    "#train data\n",
    "x,y = Digits.data[:-10] , Digits.target[:-10]"
   ]
  },
  {
   "cell_type": "code",
   "execution_count": 84,
   "id": "022c714c",
   "metadata": {},
   "outputs": [
    {
     "name": "stdout",
     "output_type": "stream",
     "text": [
      "893\n",
      "894\n"
     ]
    }
   ],
   "source": [
    "#train and test mod\n",
    "mod.fit(x,y)\n",
    "x_train , x_test , y_train, y_test = train_test_split(x,y, test_size=0.5)\n",
    "print(len(x_train))\n",
    "print(len(x_test))"
   ]
  },
  {
   "cell_type": "code",
   "execution_count": 85,
   "id": "3d2bd0f1",
   "metadata": {},
   "outputs": [
    {
     "name": "stdout",
     "output_type": "stream",
     "text": [
      "Prediction :  [4]\n"
     ]
    },
    {
     "data": {
      "image/png": "[encoded data removed]",
      "text/plain": [
       "<Figure size 432x288 with 1 Axes>"
      ]
     },
     "metadata": {
      "needs_background": "light"
     },
     "output_type": "display_data"
    }
   ],
   "source": [
    "print('Prediction : ', mod.predict(Digits.data[[-9]]))\n",
    "plt.imshow(Digits.images[-9], cmap=plt.cm.gray_r,interpolation='nearest')\n",
    "plt.show()"
   ]
  },
  {
   "cell_type": "code",
   "execution_count": 86,
   "id": "05173e6f",
   "metadata": {},
   "outputs": [
    {
     "name": "stdout",
     "output_type": "stream",
     "text": [
      "SVC(C=1, gamma=0.1, kernel='linear')\n",
      "0.9675615212527964\n"
     ]
    }
   ],
   "source": [
    "mod.fit(x_train,y_train)\n",
    "print(mod)\n",
    "print(mod.score(x_test, y_test))"
   ]
  },
  {
   "cell_type": "code",
   "execution_count": null,
   "id": "1ffcf55e",
   "metadata": {},
   "outputs": [],
   "source": []
  }
 ],
 "metadata": {
  "kernelspec": {
   "display_name": "Python 3 (ipykernel)",
   "language": "python",
   "name": "python3"
  },
  "language_info": {
   "codemirror_mode": {
    "name": "ipython",
    "version": 3
   },
   "file_extension": ".py",
   "mimetype": "text/x-python",
   "name": "python",
   "nbconvert_exporter": "python",
   "pygments_lexer": "ipython3",
   "version": "3.9.12"
  }
 },
 "nbformat": 4,
 "nbformat_minor": 5
}
