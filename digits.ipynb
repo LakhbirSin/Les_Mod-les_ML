{
 "cells": [
  {
   "cell_type": "markdown",
   "id": "2635892e",
   "metadata": {},
   "source": [
    "# Training of numbers"
   ]
  },
  {
   "cell_type": "markdown",
   "id": "c5429a7e",
   "metadata": {},
   "source": [
    "Problématique étudiée\n",
    "\n",
    "La problématique étudiée est le cas avec le dataset hand-written digits. L'objectif de ce cas est de reconnaître des chiffres annotés à la main à partir d'une base de données disponible.\n",
    "\n",
    "Il s'agit donc d'un cas de machine learning supervisé, et plus spécifiquement d'un cas de classification.\n",
    "\n",
    "Ce notebook va vous guider à travers ce cas concret de classification, et va utiliser un modèle particulier de machine learning pour réaliser cette tâche : les SVM (Support-Vector Machine). Les parties suivantes sont dédiées à l'implémentation de ce modèle grâce à l'utilisation de la librairie scikit-learn."
   ]
  },
  {
   "cell_type": "markdown",
   "id": "bc8b418a",
   "metadata": {},
   "source": [
    "# Importation des différentes librairies"
   ]
  },
  {
   "cell_type": "code",
   "execution_count": 1,
   "id": "35882b2f",
   "metadata": {},
   "outputs": [],
   "source": [
    "import pandas as pd\n",
    "import matplotlib.pyplot as plt\n",
    "from sklearn.datasets import load_digits\n",
    "from sklearn import svm\n",
    "from sklearn.svm import SVC\n",
    "from sklearn.model_selection import train_test_split"
   ]
  },
  {
   "cell_type": "markdown",
   "id": "775d6643",
   "metadata": {},
   "source": [
    "La première étape est d'importer le dataset et de voir de quoi il est constitué. Ici on importe le dataset hand-written digits."
   ]
  },
  {
   "cell_type": "code",
   "execution_count": 2,
   "id": "ba67b1da",
   "metadata": {},
   "outputs": [
    {
     "name": "stdout",
     "output_type": "stream",
     "text": [
      "['DESCR', 'data', 'feature_names', 'frame', 'images', 'target', 'target_names']\n"
     ]
    }
   ],
   "source": [
    "Digits = load_digits()\n",
    "print(dir(Digits))# features"
   ]
  },
  {
   "cell_type": "code",
   "execution_count": 3,
   "id": "2c1c057f",
   "metadata": {},
   "outputs": [
    {
     "name": "stdout",
     "output_type": "stream",
     "text": [
      "[[ 0.  0.  5. ...  0.  0.  0.]\n",
      " [ 0.  0.  0. ... 10.  0.  0.]\n",
      " [ 0.  0.  0. ... 16.  9.  0.]\n",
      " ...\n",
      " [ 0.  0.  1. ...  6.  0.  0.]\n",
      " [ 0.  0.  2. ... 12.  0.  0.]\n",
      " [ 0.  0. 10. ... 12.  1.  0.]]\n"
     ]
    }
   ],
   "source": [
    "print(Digits.data)#dataset digit"
   ]
  },
  {
   "cell_type": "code",
   "execution_count": 4,
   "id": "d90dab18",
   "metadata": {},
   "outputs": [
    {
     "name": "stdout",
     "output_type": "stream",
     "text": [
      "[0 1 2 ... 8 9 8]\n"
     ]
    }
   ],
   "source": [
    "print(Digits.target)# labels"
   ]
  },
  {
   "cell_type": "code",
   "execution_count": 5,
   "id": "f86864d8",
   "metadata": {},
   "outputs": [
    {
     "name": "stdout",
     "output_type": "stream",
     "text": [
      "       0    1     2     3     4     5    6    7    8    9   ...   54   55  \\\n",
      "0     0.0  0.0   5.0  13.0   9.0   1.0  0.0  0.0  0.0  0.0  ...  0.0  0.0   \n",
      "1     0.0  0.0   0.0  12.0  13.0   5.0  0.0  0.0  0.0  0.0  ...  0.0  0.0   \n",
      "2     0.0  0.0   0.0   4.0  15.0  12.0  0.0  0.0  0.0  0.0  ...  5.0  0.0   \n",
      "3     0.0  0.0   7.0  15.0  13.0   1.0  0.0  0.0  0.0  8.0  ...  9.0  0.0   \n",
      "4     0.0  0.0   0.0   1.0  11.0   0.0  0.0  0.0  0.0  0.0  ...  0.0  0.0   \n",
      "...   ...  ...   ...   ...   ...   ...  ...  ...  ...  ...  ...  ...  ...   \n",
      "1792  0.0  0.0   4.0  10.0  13.0   6.0  0.0  0.0  0.0  1.0  ...  4.0  0.0   \n",
      "1793  0.0  0.0   6.0  16.0  13.0  11.0  1.0  0.0  0.0  0.0  ...  1.0  0.0   \n",
      "1794  0.0  0.0   1.0  11.0  15.0   1.0  0.0  0.0  0.0  0.0  ...  0.0  0.0   \n",
      "1795  0.0  0.0   2.0  10.0   7.0   0.0  0.0  0.0  0.0  0.0  ...  2.0  0.0   \n",
      "1796  0.0  0.0  10.0  14.0   8.0   1.0  0.0  0.0  0.0  2.0  ...  8.0  0.0   \n",
      "\n",
      "       56   57   58    59    60    61   62   63  \n",
      "0     0.0  0.0  6.0  13.0  10.0   0.0  0.0  0.0  \n",
      "1     0.0  0.0  0.0  11.0  16.0  10.0  0.0  0.0  \n",
      "2     0.0  0.0  0.0   3.0  11.0  16.0  9.0  0.0  \n",
      "3     0.0  0.0  7.0  13.0  13.0   9.0  0.0  0.0  \n",
      "4     0.0  0.0  0.0   2.0  16.0   4.0  0.0  0.0  \n",
      "...   ...  ...  ...   ...   ...   ...  ...  ...  \n",
      "1792  0.0  0.0  2.0  14.0  15.0   9.0  0.0  0.0  \n",
      "1793  0.0  0.0  6.0  16.0  14.0   6.0  0.0  0.0  \n",
      "1794  0.0  0.0  2.0   9.0  13.0   6.0  0.0  0.0  \n",
      "1795  0.0  0.0  5.0  12.0  16.0  12.0  0.0  0.0  \n",
      "1796  0.0  1.0  8.0  12.0  14.0  12.0  1.0  0.0  \n",
      "\n",
      "[1797 rows x 64 columns]\n"
     ]
    }
   ],
   "source": [
    "D = pd.DataFrame(Digits.data)\n",
    "print(D)"
   ]
  },
  {
   "cell_type": "code",
   "execution_count": 6,
   "id": "9cf2089c",
   "metadata": {},
   "outputs": [
    {
     "name": "stdout",
     "output_type": "stream",
     "text": [
      "        0    1     2     3     4     5    6    7    8    9  ...   55   56  \\\n",
      "0     0.0  0.0   5.0  13.0   9.0   1.0  0.0  0.0  0.0  0.0  ...  0.0  0.0   \n",
      "1     0.0  0.0   0.0  12.0  13.0   5.0  0.0  0.0  0.0  0.0  ...  0.0  0.0   \n",
      "2     0.0  0.0   0.0   4.0  15.0  12.0  0.0  0.0  0.0  0.0  ...  0.0  0.0   \n",
      "3     0.0  0.0   7.0  15.0  13.0   1.0  0.0  0.0  0.0  8.0  ...  0.0  0.0   \n",
      "4     0.0  0.0   0.0   1.0  11.0   0.0  0.0  0.0  0.0  0.0  ...  0.0  0.0   \n",
      "...   ...  ...   ...   ...   ...   ...  ...  ...  ...  ...  ...  ...  ...   \n",
      "1792  0.0  0.0   4.0  10.0  13.0   6.0  0.0  0.0  0.0  1.0  ...  0.0  0.0   \n",
      "1793  0.0  0.0   6.0  16.0  13.0  11.0  1.0  0.0  0.0  0.0  ...  0.0  0.0   \n",
      "1794  0.0  0.0   1.0  11.0  15.0   1.0  0.0  0.0  0.0  0.0  ...  0.0  0.0   \n",
      "1795  0.0  0.0   2.0  10.0   7.0   0.0  0.0  0.0  0.0  0.0  ...  0.0  0.0   \n",
      "1796  0.0  0.0  10.0  14.0   8.0   1.0  0.0  0.0  0.0  2.0  ...  0.0  0.0   \n",
      "\n",
      "       57   58    59    60    61   62   63  target  \n",
      "0     0.0  6.0  13.0  10.0   0.0  0.0  0.0       0  \n",
      "1     0.0  0.0  11.0  16.0  10.0  0.0  0.0       1  \n",
      "2     0.0  0.0   3.0  11.0  16.0  9.0  0.0       2  \n",
      "3     0.0  7.0  13.0  13.0   9.0  0.0  0.0       3  \n",
      "4     0.0  0.0   2.0  16.0   4.0  0.0  0.0       4  \n",
      "...   ...  ...   ...   ...   ...  ...  ...     ...  \n",
      "1792  0.0  2.0  14.0  15.0   9.0  0.0  0.0       9  \n",
      "1793  0.0  6.0  16.0  14.0   6.0  0.0  0.0       0  \n",
      "1794  0.0  2.0   9.0  13.0   6.0  0.0  0.0       8  \n",
      "1795  0.0  5.0  12.0  16.0  12.0  0.0  0.0       9  \n",
      "1796  1.0  8.0  12.0  14.0  12.0  1.0  0.0       8  \n",
      "\n",
      "[1797 rows x 65 columns]\n"
     ]
    }
   ],
   "source": [
    "D['target'] = pd.DataFrame(Digits.target)# Ajout colonne target(une variable dependant)\n",
    "print(D)"
   ]
  },
  {
   "cell_type": "markdown",
   "id": "303c0bb9",
   "metadata": {},
   "source": [
    " Nous choisissons le modèle à mettre en place, nous l'apprenons, et nous le testons:"
   ]
  },
  {
   "cell_type": "code",
   "execution_count": 7,
   "id": "116a7c9d",
   "metadata": {},
   "outputs": [],
   "source": [
    "mod = svm.SVC(kernel='linear' , gamma=0.1 , C=1)"
   ]
  },
  {
   "cell_type": "markdown",
   "id": "1a0317ba",
   "metadata": {},
   "source": [
    "Puis, nous divisons notre jeu de données d'entrée en deux sous-ensembles, afin de constituer nos jeux de données d'apprentissage (constitué ici de 50 % des données de départ), et de test (50 % des données de départ).\n",
    "\n",
    "Si vous souhaitez voir les différences de résultat en fonction de la taille des données test, vous devrez changé le paramètre test_size qui indique le pourcentage de donnée que vous selectionné dans test.\n",
    "\n",
    "Cependant attention à ne pas lui donnée une valeure trop basse en pensant que votre modèle sera meilleure car vous risqueriez le sur-apprentissage. C'est-à-dire que votre modèle va se complexifier et ne sera plus assez général et vous perdrez donc en précision. Je vous invite à essayer avec une valeure de 0.1 et de comparer avec celle actuelle pour vérifiez cela."
   ]
  },
  {
   "cell_type": "code",
   "execution_count": 8,
   "id": "b9b0de68",
   "metadata": {},
   "outputs": [],
   "source": [
    "#train data\n",
    "x,y = Digits.data[:-10] , Digits.target[:-10]"
   ]
  },
  {
   "cell_type": "code",
   "execution_count": 9,
   "id": "022c714c",
   "metadata": {},
   "outputs": [
    {
     "name": "stdout",
     "output_type": "stream",
     "text": [
      "893\n",
      "894\n"
     ]
    }
   ],
   "source": [
    "#train and test mod\n",
    "mod.fit(x,y)\n",
    "x_train , x_test , y_train, y_test = train_test_split(x,y, test_size=0.5)\n",
    "print(len(x_train))\n",
    "print(len(x_test))"
   ]
  },
  {
   "cell_type": "markdown",
   "id": "f652806e",
   "metadata": {},
   "source": [
    " Enfin, nous regardons quelques résultats de prédiction, pour voir de manière qualitative si le modèle semble bien fonctionner"
   ]
  },
  {
   "cell_type": "code",
   "execution_count": 13,
   "id": "3d2bd0f1",
   "metadata": {},
   "outputs": [
    {
     "name": "stdout",
     "output_type": "stream",
     "text": [
      "Prediction :  [8]\n"
     ]
    },
    {
     "data": {
      "image/png": "[encoded data removed]",
      "text/plain": [
       "<Figure size 432x288 with 1 Axes>"
      ]
     },
     "metadata": {
      "needs_background": "light"
     },
     "output_type": "display_data"
    }
   ],
   "source": [
    "print('Prediction : ', mod.predict(Digits.data[[-1]]))\n",
    "plt.imshow(Digits.images[-1], cmap=plt.cm.gray_r,interpolation='nearest')\n",
    "plt.show()"
   ]
  },
  {
   "cell_type": "code",
   "execution_count": 1,
   "id": "05173e6f",
   "metadata": {},
   "outputs": [
    {
     "ename": "NameError",
     "evalue": "name 'mod' is not defined",
     "output_type": "error",
     "traceback": [
      "\u001b[1;31m---------------------------------------------------------------------------\u001b[0m",
      "\u001b[1;31mNameError\u001b[0m                                 Traceback (most recent call last)",
      "Input \u001b[1;32mIn [1]\u001b[0m, in \u001b[0;36m<cell line: 1>\u001b[1;34m()\u001b[0m\n\u001b[1;32m----> 1\u001b[0m \u001b[43mmod\u001b[49m\u001b[38;5;241m.\u001b[39mfit(x_train,y_train)\n\u001b[0;32m      2\u001b[0m \u001b[38;5;28mprint\u001b[39m(mod)\n\u001b[0;32m      3\u001b[0m \u001b[38;5;28mprint\u001b[39m(mod\u001b[38;5;241m.\u001b[39mscore(x_test, y_test))\n",
      "\u001b[1;31mNameError\u001b[0m: name 'mod' is not defined"
     ]
    }
   ],
   "source": [
    "mod.fit(x_train,y_train)\n",
    "print(mod)\n",
    "print(mod.score(x_test, y_test))"
   ]
  },
  {
   "cell_type": "markdown",
   "id": "46de9e6e",
   "metadata": {},
   "source": [
    "Pour conclure, nous avons pu voir qu'un modèle simple tel que le SVM fonctionne très bien pour ce problème car il arrive à trouver 97% de bonne réponse. Il nous permet en plus de ça de trouver le résultat de manière très rapide, quasiment instantanné. Cela nous montre donc qu'il ne faut pas utiliser un modèle qui utilise un réseaux de neuronne, bien plus long en terme de calcul, pour trouver notre réponse. de la même façon que l'on utilise pas un lance flamme pour allumer un barbecue !"
   ]
  },
  {
   "cell_type": "markdown",
   "id": "319720f7",
   "metadata": {},
   "source": [
    "Ceci conclut notre tutoriel, et sentez-vous libre de jouer avec les paramètres du modèle pour mieux le comprendre !"
   ]
  }
 ],
 "metadata": {
  "kernelspec": {
   "display_name": "Python 3 (ipykernel)",
   "language": "python",
   "name": "python3"
  },
  "language_info": {
   "codemirror_mode": {
    "name": "ipython",
    "version": 3
   },
   "file_extension": ".py",
   "mimetype": "text/x-python",
   "name": "python",
   "nbconvert_exporter": "python",
   "pygments_lexer": "ipython3",
   "version": "3.9.12"
  }
 },
 "nbformat": 4,
 "nbformat_minor": 5
}
